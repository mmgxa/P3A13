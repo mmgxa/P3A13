{
 "cells": [
  {
   "cell_type": "code",
   "execution_count": 1,
   "id": "0c1e171c",
   "metadata": {},
   "outputs": [],
   "source": [
    "from collections import namedtuple, Counter\n",
    "from dateutil.parser import parse\n",
    "from itertools import islice"
   ]
  },
  {
   "cell_type": "markdown",
   "id": "5b9836ae",
   "metadata": {},
   "source": [
    "# Question 1"
   ]
  },
  {
   "cell_type": "code",
   "execution_count": 2,
   "id": "b39c97dd",
   "metadata": {},
   "outputs": [],
   "source": [
    "def date(value):\n",
    "    '''\n",
    "    This function is used to format the column with date in it.\n",
    "    It will take a string in the form 10/5/2016 and return datetime.date(2016, 10, 5)\n",
    "    '''\n",
    "    return parse(value).date() "
   ]
  },
  {
   "cell_type": "code",
   "execution_count": 3,
   "id": "d04c2051",
   "metadata": {},
   "outputs": [],
   "source": [
    "def gen_ticket(file):\n",
    "    '''\n",
    "    This is a generator that yields one line from the file on each iteration\n",
    "    Because we want lazy operation, the row is formatted just before yielding and\n",
    "    not for all rows immediately when it is called\n",
    "    '''\n",
    "    with open(file, encoding='utf8', errors='ignore') as f:\n",
    "        # the first line is the header; this is used to\n",
    "        # create the names for elements in the namedtuple\n",
    "        header = next(f).strip().split(',')\n",
    "        header = [x.replace(\" \", \"\") for x in header]\n",
    "        # data type for each column in the file\n",
    "        data_type = [int, str, str, str, date, int, str, str, str]\n",
    "        Ticket = namedtuple('Ticket', header )\n",
    "        for line in f:\n",
    "            line = line.strip().split(',')\n",
    "            data = (type(field) for type, field in zip(data_type, line))\n",
    "            yield Ticket(*data)"
   ]
  },
  {
   "cell_type": "code",
   "execution_count": 4,
   "id": "2021026d",
   "metadata": {},
   "outputs": [
    {
     "name": "stdout",
     "output_type": "stream",
     "text": [
      "Ticket(SummonsNumber=4006478550, PlateID='VAD7274', RegistrationState='VA', PlateType='PAS', IssueDate=datetime.date(2016, 10, 5), ViolationCode=5, VehicleBodyType='4D', VehicleMake='BMW', ViolationDescription='BUS LANE VIOLATION')\n",
      "\n",
      "Ticket(SummonsNumber=4006462396, PlateID='22834JK', RegistrationState='NY', PlateType='COM', IssueDate=datetime.date(2016, 9, 30), ViolationCode=5, VehicleBodyType='VAN', VehicleMake='CHEVR', ViolationDescription='BUS LANE VIOLATION')\n",
      "\n",
      "Ticket(SummonsNumber=4007117810, PlateID='21791MG', RegistrationState='NY', PlateType='COM', IssueDate=datetime.date(2017, 4, 10), ViolationCode=5, VehicleBodyType='VAN', VehicleMake='DODGE', ViolationDescription='BUS LANE VIOLATION')\n",
      "\n",
      "Ticket(SummonsNumber=4006265037, PlateID='FZX9232', RegistrationState='NY', PlateType='PAS', IssueDate=datetime.date(2016, 8, 23), ViolationCode=5, VehicleBodyType='SUBN', VehicleMake='FORD', ViolationDescription='BUS LANE VIOLATION')\n",
      "\n",
      "Ticket(SummonsNumber=4006535600, PlateID='N203399C', RegistrationState='NY', PlateType='OMT', IssueDate=datetime.date(2016, 10, 19), ViolationCode=5, VehicleBodyType='SUBN', VehicleMake='FORD', ViolationDescription='BUS LANE VIOLATION')\n",
      "\n"
     ]
    }
   ],
   "source": [
    "tickets = gen_ticket('nyc_parking_tickets_extract.csv')\n",
    "\n",
    "for i in islice(tickets, 0,5):\n",
    "    print(f'{i}\\n')"
   ]
  },
  {
   "cell_type": "markdown",
   "id": "dd1da627",
   "metadata": {},
   "source": [
    "# Question 2"
   ]
  },
  {
   "cell_type": "code",
   "execution_count": 5,
   "id": "867ead8d",
   "metadata": {},
   "outputs": [],
   "source": [
    "def ticket_count_by_car():\n",
    "    '''\n",
    "    This will sum the violations by car model\n",
    "    It will iterate over all rows in the generator\n",
    "    '''\n",
    "\n",
    "    # We initialize a counter to keep count of all the models\n",
    "    ticket_cnt = Counter()\n",
    "\n",
    "    for ticket in tickets:\n",
    "        ticket_cnt.update([ticket.VehicleMake])\n",
    "\n",
    "    # The most_common method sorts in descending order\n",
    "    for key, value in ticket_cnt.most_common():\n",
    "        yield (key, value)"
   ]
  },
  {
   "cell_type": "code",
   "execution_count": 6,
   "id": "aeae5c23",
   "metadata": {},
   "outputs": [
    {
     "name": "stdout",
     "output_type": "stream",
     "text": [
      "('TOYOT', 112)\n",
      "('HONDA', 106)\n",
      "('FORD', 102)\n",
      "('CHEVR', 75)\n",
      "('NISSA', 70)\n"
     ]
    }
   ],
   "source": [
    "car_cnt = ticket_count_by_car()\n",
    "\n",
    "for i in islice(car_cnt, 0,5):\n",
    "    print(i)"
   ]
  }
 ],
 "metadata": {
  "kernelspec": {
   "display_name": "default",
   "language": "python",
   "name": "python3"
  },
  "language_info": {
   "codemirror_mode": {
    "name": "ipython",
    "version": 3
   },
   "file_extension": ".py",
   "mimetype": "text/x-python",
   "name": "python",
   "nbconvert_exporter": "python",
   "pygments_lexer": "ipython3",
   "version": "3.8.10"
  }
 },
 "nbformat": 4,
 "nbformat_minor": 5
}
